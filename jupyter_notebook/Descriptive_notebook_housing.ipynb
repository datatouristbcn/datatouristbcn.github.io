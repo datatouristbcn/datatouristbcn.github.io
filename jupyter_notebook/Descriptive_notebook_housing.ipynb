{
 "cells": [
  {
   "cell_type": "markdown",
   "metadata": {},
   "source": [
    "## 1.Motivation\n",
    "\n",
    "### What is your dataset?\n",
    "\n",
    "The main dataset used to build the app is a mix of several datasets grouped by Neighborhood and Year from the period between 2015 and 2019. It includes several features such as Average Rental price/m2, Average Airbnb flats, Average Airbnb price per night or Average weight of Airbnb in every neighborhood.\n",
    "\n",
    "The data that feeds this final datasets comes from the Barcelona's townhall and from InsideAirbnb.com mainly.\n",
    "\n",
    "### Why did you choose this/these particular dataset(s)?\n",
    "\n",
    "We used this datasets because one of the main current problems in Barcelona, apart from coronavirus, is the housing market for the locals, specially renting. And one of the main explanations for this problems is blaiming the growth of Airbnb in the city. Therefore we considered that studying the evolutions of prices per m2 and the growth of Airbnb listings was relevant to better understand this problem.\n",
    "\n",
    "### What was your goal for the end user's experience?\n",
    "\n",
    "The goal is to provide lots of insights regarding this topic in a small interactive dashboard. In this section, we aimed to make the user participant of the story. We present the problem, provide a tool to explore it and finally we share our insights. But the app is open for the specific curiosity of every user. \n",
    "\n",
    "\n",
    "## 2.Basic stats. Let's understand the dataset better\n",
    "\n",
    "### Write about your choices in data cleaning and preprocessing.\n",
    "\n",
    "   The two main sources that form the final dataset are periodic airbnb listings and periodic data regarding rental houses and their prices. The one of airbnb was formed by several monthly datasets of the listings in barcelona. Therefore it was needed to load them in the same dataset and group them by the average per year and per neighbourhood. The data from the townhall of Barcelona wasn't easy to get nor clean because the formatting was horrible to analyze data. Therefore, for this data, Excel and Python were used equally to clean it. Finally both were merged together.\n",
    "\n",
    "Apart from this main dataset, it has been used a geojson dataset of the neighborhoods in Barcelona to plot in a map, and a dataset of the total living units per neighborhood to calculate the incidence of Airbnb inside every Neighborhood. \n",
    "   \n",
    "### Write a short section that discusses the dataset stats, containing key points/plots from your exploratory data analysis.\n",
    "\n",
    "The final dataset is:\n"
   ]
  },
  {
   "cell_type": "code",
   "execution_count": 8,
   "metadata": {},
   "outputs": [
    {
     "data": {
      "text/html": [
       "<div>\n",
       "<style scoped>\n",
       "    .dataframe tbody tr th:only-of-type {\n",
       "        vertical-align: middle;\n",
       "    }\n",
       "\n",
       "    .dataframe tbody tr th {\n",
       "        vertical-align: top;\n",
       "    }\n",
       "\n",
       "    .dataframe thead th {\n",
       "        text-align: right;\n",
       "    }\n",
       "</style>\n",
       "<table border=\"1\" class=\"dataframe\">\n",
       "  <thead>\n",
       "    <tr style=\"text-align: right;\">\n",
       "      <th></th>\n",
       "      <th>id_neighbourhood</th>\n",
       "      <th>neighbourhood</th>\n",
       "      <th>year</th>\n",
       "      <th>variable</th>\n",
       "      <th>Nominal</th>\n",
       "      <th>Per_change_previous_year</th>\n",
       "      <th>Indexed</th>\n",
       "    </tr>\n",
       "  </thead>\n",
       "  <tbody>\n",
       "    <tr>\n",
       "      <th>0</th>\n",
       "      <td>1</td>\n",
       "      <td>el Raval</td>\n",
       "      <td>2015</td>\n",
       "      <td>Average renting price/m2</td>\n",
       "      <td>10.995266</td>\n",
       "      <td>0.0</td>\n",
       "      <td>100.0</td>\n",
       "    </tr>\n",
       "    <tr>\n",
       "      <th>1</th>\n",
       "      <td>2</td>\n",
       "      <td>el Barri Gòtic</td>\n",
       "      <td>2015</td>\n",
       "      <td>Average renting price/m2</td>\n",
       "      <td>11.285944</td>\n",
       "      <td>0.0</td>\n",
       "      <td>100.0</td>\n",
       "    </tr>\n",
       "    <tr>\n",
       "      <th>2</th>\n",
       "      <td>3</td>\n",
       "      <td>la Barceloneta</td>\n",
       "      <td>2015</td>\n",
       "      <td>Average renting price/m2</td>\n",
       "      <td>16.341663</td>\n",
       "      <td>0.0</td>\n",
       "      <td>100.0</td>\n",
       "    </tr>\n",
       "    <tr>\n",
       "      <th>3</th>\n",
       "      <td>4</td>\n",
       "      <td>Sant Pere, Santa Caterina i la Ribera</td>\n",
       "      <td>2015</td>\n",
       "      <td>Average renting price/m2</td>\n",
       "      <td>12.684635</td>\n",
       "      <td>0.0</td>\n",
       "      <td>100.0</td>\n",
       "    </tr>\n",
       "    <tr>\n",
       "      <th>4</th>\n",
       "      <td>5</td>\n",
       "      <td>el Fort Pienc</td>\n",
       "      <td>2015</td>\n",
       "      <td>Average renting price/m2</td>\n",
       "      <td>10.891121</td>\n",
       "      <td>0.0</td>\n",
       "      <td>100.0</td>\n",
       "    </tr>\n",
       "  </tbody>\n",
       "</table>\n",
       "</div>"
      ],
      "text/plain": [
       "   id_neighbourhood                            neighbourhood  year  \\\n",
       "0                 1                               el Raval    2015   \n",
       "1                 2                         el Barri Gòtic    2015   \n",
       "2                 3                         la Barceloneta    2015   \n",
       "3                 4  Sant Pere, Santa Caterina i la Ribera    2015   \n",
       "4                 5                          el Fort Pienc    2015   \n",
       "\n",
       "                   variable   Nominal   Per_change_previous_year  Indexed  \n",
       "0  Average renting price/m2  10.995266                       0.0    100.0  \n",
       "1  Average renting price/m2  11.285944                       0.0    100.0  \n",
       "2  Average renting price/m2  16.341663                       0.0    100.0  \n",
       "3  Average renting price/m2  12.684635                       0.0    100.0  \n",
       "4  Average renting price/m2  10.891121                       0.0    100.0  "
      ]
     },
     "execution_count": 8,
     "metadata": {},
     "output_type": "execute_result"
    }
   ],
   "source": [
    "import pandas as pd\n",
    "import seaborn as sns\n",
    "import matplotlib.pyplot as plt\n",
    "df=pd.read_csv('https://raw.githubusercontent.com/datatouristbcn/datatouristbcn.github.io/master/final_dataset_app.csv')\n",
    "df.head()"
   ]
  },
  {
   "cell_type": "markdown",
   "metadata": {},
   "source": [
    "As mentioned before, it contains data from Airbnb and Barcelona city grouped by neighborhoods and years."
   ]
  },
  {
   "cell_type": "code",
   "execution_count": 16,
   "metadata": {},
   "outputs": [
    {
     "name": "stdout",
     "output_type": "stream",
     "text": [
      "Shape of final dataset: (1460, 7)\n",
      "Length of final dataset: 1460\n"
     ]
    },
    {
     "data": {
      "text/html": [
       "<div>\n",
       "<style scoped>\n",
       "    .dataframe tbody tr th:only-of-type {\n",
       "        vertical-align: middle;\n",
       "    }\n",
       "\n",
       "    .dataframe tbody tr th {\n",
       "        vertical-align: top;\n",
       "    }\n",
       "\n",
       "    .dataframe thead th {\n",
       "        text-align: right;\n",
       "    }\n",
       "</style>\n",
       "<table border=\"1\" class=\"dataframe\">\n",
       "  <thead>\n",
       "    <tr style=\"text-align: right;\">\n",
       "      <th></th>\n",
       "      <th>id_neighbourhood</th>\n",
       "      <th>year</th>\n",
       "      <th>Nominal</th>\n",
       "      <th>Per_change_previous_year</th>\n",
       "      <th>Indexed</th>\n",
       "    </tr>\n",
       "  </thead>\n",
       "  <tbody>\n",
       "    <tr>\n",
       "      <th>count</th>\n",
       "      <td>1460.000000</td>\n",
       "      <td>1460.000000</td>\n",
       "      <td>1443.000000</td>\n",
       "      <td>1437.000000</td>\n",
       "      <td>1448.000000</td>\n",
       "    </tr>\n",
       "    <tr>\n",
       "      <th>mean</th>\n",
       "      <td>37.000000</td>\n",
       "      <td>2017.000000</td>\n",
       "      <td>87.351653</td>\n",
       "      <td>0.070818</td>\n",
       "      <td>106.331039</td>\n",
       "    </tr>\n",
       "    <tr>\n",
       "      <th>std</th>\n",
       "      <td>21.078527</td>\n",
       "      <td>1.414698</td>\n",
       "      <td>225.665796</td>\n",
       "      <td>0.218135</td>\n",
       "      <td>23.764361</td>\n",
       "    </tr>\n",
       "    <tr>\n",
       "      <th>min</th>\n",
       "      <td>1.000000</td>\n",
       "      <td>2015.000000</td>\n",
       "      <td>0.000000</td>\n",
       "      <td>-1.000000</td>\n",
       "      <td>0.000000</td>\n",
       "    </tr>\n",
       "    <tr>\n",
       "      <th>25%</th>\n",
       "      <td>19.000000</td>\n",
       "      <td>2016.000000</td>\n",
       "      <td>0.095095</td>\n",
       "      <td>0.000000</td>\n",
       "      <td>100.000000</td>\n",
       "    </tr>\n",
       "    <tr>\n",
       "      <th>50%</th>\n",
       "      <td>37.000000</td>\n",
       "      <td>2017.000000</td>\n",
       "      <td>14.095194</td>\n",
       "      <td>0.026594</td>\n",
       "      <td>102.604995</td>\n",
       "    </tr>\n",
       "    <tr>\n",
       "      <th>75%</th>\n",
       "      <td>55.000000</td>\n",
       "      <td>2018.000000</td>\n",
       "      <td>70.561062</td>\n",
       "      <td>0.113986</td>\n",
       "      <td>111.306234</td>\n",
       "    </tr>\n",
       "    <tr>\n",
       "      <th>max</th>\n",
       "      <td>73.000000</td>\n",
       "      <td>2019.000000</td>\n",
       "      <td>2219.000000</td>\n",
       "      <td>3.161654</td>\n",
       "      <td>416.165367</td>\n",
       "    </tr>\n",
       "  </tbody>\n",
       "</table>\n",
       "</div>"
      ],
      "text/plain": [
       "       id_neighbourhood         year     Nominal   Per_change_previous_year  \\\n",
       "count       1460.000000  1460.000000  1443.000000               1437.000000   \n",
       "mean          37.000000  2017.000000    87.351653                  0.070818   \n",
       "std           21.078527     1.414698   225.665796                  0.218135   \n",
       "min            1.000000  2015.000000     0.000000                 -1.000000   \n",
       "25%           19.000000  2016.000000     0.095095                  0.000000   \n",
       "50%           37.000000  2017.000000    14.095194                  0.026594   \n",
       "75%           55.000000  2018.000000    70.561062                  0.113986   \n",
       "max           73.000000  2019.000000  2219.000000                  3.161654   \n",
       "\n",
       "           Indexed  \n",
       "count  1448.000000  \n",
       "mean    106.331039  \n",
       "std      23.764361  \n",
       "min       0.000000  \n",
       "25%     100.000000  \n",
       "50%     102.604995  \n",
       "75%     111.306234  \n",
       "max     416.165367  "
      ]
     },
     "execution_count": 16,
     "metadata": {},
     "output_type": "execute_result"
    }
   ],
   "source": [
    "print('Shape of final dataset:', df.shape)\n",
    "print('Length of final dataset:', len(df))\n",
    "df.describe()"
   ]
  },
  {
   "cell_type": "markdown",
   "metadata": {},
   "source": [
    "The key distributions about this datasets are the following plots:\n",
    "They show the increase of Average rental price, evolution of Airbnb listings, share and price.\n",
    "This key distributions shows the high increase on every feature (around 25%) in the city of Barcelona during the last years.    "
   ]
  },
  {
   "cell_type": "code",
   "execution_count": 11,
   "metadata": {},
   "outputs": [
    {
     "data": {
      "image/png": "[encoded data removed]",
      "text/plain": [
       "<Figure size 1008x432 with 1 Axes>"
      ]
     },
     "metadata": {
      "needs_background": "light"
     },
     "output_type": "display_data"
    }
   ],
   "source": [
    "distributions= df.groupby(['year','variable'])['Nominal '].mean().reset_index()\n",
    "#distributions=distributions.sort_values(by=['Preu'])\n",
    "total = len(distributions)\n",
    "plt.figure(figsize=(14,6))\n",
    "distribution=distributions[distributions.variable==\"Average renting price/m2\"]\n",
    "g = sns.barplot(x='year', y='Nominal ',color='lightblue',\n",
    "                  data=distribution)\n",
    "g.set_title(\"Average Rental Price/m2 per year\", fontsize=20)\n",
    "g.set_xlabel(\"Year \", fontsize=15)\n",
    "g.set_ylabel(\"Average price\", fontsize=15)\n",
    "g.set_xticklabels(g.get_xticklabels(), rotation=0)\n",
    "\n",
    "\n",
    "plt.show()"
   ]
  },
  {
   "cell_type": "code",
   "execution_count": 15,
   "metadata": {},
   "outputs": [
    {
     "data": {
      "image/png": "[encoded data removed]",
      "text/plain": [
       "<Figure size 1008x432 with 1 Axes>"
      ]
     },
     "metadata": {
      "needs_background": "light"
     },
     "output_type": "display_data"
    }
   ],
   "source": [
    "distributions= df.groupby(['year','variable'])['Nominal '].sum().reset_index()\n",
    "#distributions=distributions.sort_values(by=['Preu'])\n",
    "plt.figure(figsize=(14,6))\n",
    "distribution=distributions[distributions.variable==\"Average airbnb listings\"]\n",
    "g = sns.barplot(x='year', y='Nominal ',color='lightblue',\n",
    "                  data=distribution)\n",
    "g.set_title(\"Average Airbnb listings per year\", fontsize=20)\n",
    "g.set_xlabel(\"Year \", fontsize=15)\n",
    "g.set_ylabel(\"Average listings\", fontsize=15)\n",
    "g.set_xticklabels(g.get_xticklabels(), rotation=0)\n",
    "\n",
    "\n",
    "plt.show()"
   ]
  },
  {
   "cell_type": "code",
   "execution_count": 22,
   "metadata": {},
   "outputs": [
    {
     "data": {
      "image/png": "[encoded data removed]",
      "text/plain": [
       "<Figure size 1008x432 with 1 Axes>"
      ]
     },
     "metadata": {
      "needs_background": "light"
     },
     "output_type": "display_data"
    }
   ],
   "source": [
    "distributions= df.groupby(['year','variable'])['Nominal '].mean().reset_index()\n",
    "#distributions=distributions.sort_values(by=['Preu'])\n",
    "plt.figure(figsize=(14,6))\n",
    "distribution=distributions[distributions.variable==\"Average weight of airbnb inside the neighbourhood\"]\n",
    "g = sns.barplot(x='year', y='Nominal ',color='lightblue',\n",
    "                  data=distribution)\n",
    "g.set_title(\"Average presence of Airbnb in a neighborhood\", fontsize=20)\n",
    "g.set_xlabel(\"Year \", fontsize=15)\n",
    "g.set_ylabel(\"Average share (x100)%\", fontsize=15)\n",
    "g.set_xticklabels(g.get_xticklabels(), rotation=0)\n",
    "\n",
    "\n",
    "plt.show()"
   ]
  },
  {
   "cell_type": "code",
   "execution_count": 23,
   "metadata": {},
   "outputs": [
    {
     "data": {
      "image/png": "[encoded data removed]",
      "text/plain": [
       "<Figure size 1008x432 with 1 Axes>"
      ]
     },
     "metadata": {
      "needs_background": "light"
     },
     "output_type": "display_data"
    }
   ],
   "source": [
    "distributions= df.groupby(['year','variable'])['Nominal '].mean().reset_index()\n",
    "#distributions=distributions.sort_values(by=['Preu'])\n",
    "plt.figure(figsize=(14,6))\n",
    "distribution=distributions[distributions.variable==\"Airbnb average price per night\"]\n",
    "g = sns.barplot(x='year', y='Nominal ',color='lightblue',\n",
    "                  data=distribution)\n",
    "g.set_title(\"Airbnb average price per night\", fontsize=20)\n",
    "g.set_xlabel(\"Year \", fontsize=15)\n",
    "g.set_ylabel(\"Average price\", fontsize=15)\n",
    "g.set_xticklabels(g.get_xticklabels(), rotation=0)\n",
    "\n",
    "\n",
    "plt.show()"
   ]
  },
  {
   "cell_type": "code",
   "execution_count": 26,
   "metadata": {},
   "outputs": [
    {
     "name": "stdout",
     "output_type": "stream",
     "text": [
      "There are  73 different neighborhoods in the city of Barcelona\n"
     ]
    }
   ],
   "source": [
    "print(\"There are \", len(df.neighbourhood.unique()), \"different neighborhoods in the city of Barcelona\")"
   ]
  },
  {
   "cell_type": "markdown",
   "metadata": {},
   "source": [
    "## 3. Data Analysis\n",
    "\n",
    "   Our main point in this section, apart from providing an interactive app for the user to discover insights, was to find the correlation between the growth of Airbnb and the growth in rental price in the city of Barcelona.\n",
    "   \n",
    "   Therefore apart from descriptive plots, and the sorce code used to build the app that can be found here: https://github.com/datatouristbcn/datatouristbcn.github.io/blob/master/final_app_bcn.py\n",
    "   \n",
    "   We also performed a logistic regression in the studied period (2015-2019)\n",
    "   \n",
    "   The main finding is as follows:\n",
    "   \n"
   ]
  },
  {
   "cell_type": "code",
   "execution_count": 28,
   "metadata": {},
   "outputs": [],
   "source": [
    "total_houses=pd.read_csv('https://raw.githubusercontent.com/datatouristbcn/datatouristbcn.github.io/master/total_houses.csv')"
   ]
  },
  {
   "cell_type": "code",
   "execution_count": 30,
   "metadata": {},
   "outputs": [
    {
     "data": {
      "image/png": "[encoded data removed]",
      "text/plain": [
       "<Figure size 432x288 with 1 Axes>"
      ]
     },
     "metadata": {
      "needs_background": "light"
     },
     "output_type": "display_data"
    }
   ],
   "source": [
    "\n",
    "xy=pd.DataFrame()\n",
    "\n",
    "xy['neighbourhood']=df['id_neighbourhood'].unique()\n",
    "x=list(df[(df.year==2019)&(df.variable=='Average weight of airbnb inside the neighbourhood')]['Nominal '])-(df[(df.year==2015)&(df.variable=='Average weight of airbnb inside the neighbourhood')]['Nominal '])\n",
    "y=(list(df[(df.year==2019)&(df.variable=='Average renting price/m2')]['Nominal '])-df[(df.year==2015)&(df.variable=='Average renting price/m2')]['Nominal '])/df[(df.year==2015)&(df.variable=='Average renting price/m2')]['Nominal ']\n",
    "xy['x']=x.values\n",
    "xy['y']=y.values\n",
    "xy['total_houses']=total_houses['total_houses'].values\n",
    "xy['name']=df['neighbourhood'].unique()\n",
    "\n",
    "ax = sns.scatterplot(x=\"x\", y=\"y\",\n",
    "\n",
    "                     #hue=\"size\", #size=\"size\",\n",
    "\n",
    "                     data=xy)"
   ]
  },
  {
   "cell_type": "code",
   "execution_count": 35,
   "metadata": {},
   "outputs": [
    {
     "name": "stdout",
     "output_type": "stream",
     "text": [
      "coefficient of determination: 0.03635034328256781\n",
      "intercept: [0.24225911]\n",
      "slope: [[3.0079303]]\n"
     ]
    }
   ],
   "source": [
    "import numpy as np\n",
    "from sklearn.linear_model import LinearRegression\n",
    "model = LinearRegression()\n",
    "x=xy[\"x\"].to_list()\n",
    "x = np.asarray(x, dtype=np.float32).reshape((-1, 1))\n",
    "y=xy[\"y\"].to_list()\n",
    "y = np.asarray(y, dtype=np.float32)\n",
    "x=np.nan_to_num(x)\n",
    "y=np.nan_to_num(y)\n",
    "model.fit(x,y)\n",
    "r_sq = model.score(x, y)\n",
    "print('coefficient of determination:', r_sq)\n",
    "new_model = LinearRegression().fit(x, y.reshape((-1, 1)))\n",
    "print('intercept:', new_model.intercept_)\n",
    "intercept: [5.63333333]\n",
    "print('slope:', new_model.coef_)\n",
    "slope: [[0.54]]\n",
    "slope=new_model.coef_[0]\n",
    "intercept=new_model.intercept_"
   ]
  },
  {
   "cell_type": "code",
   "execution_count": 41,
   "metadata": {},
   "outputs": [
    {
     "data": {
      "text/plain": [
       "[<matplotlib.lines.Line2D at 0x1eb17a960f0>]"
      ]
     },
     "execution_count": 41,
     "metadata": {},
     "output_type": "execute_result"
    },
    {
     "data": {
      "image/png": "[encoded data removed]",
      "text/plain": [
       "<Figure size 432x288 with 1 Axes>"
      ]
     },
     "metadata": {
      "needs_background": "light"
     },
     "output_type": "display_data"
    }
   ],
   "source": [
    "\n",
    "xy=pd.DataFrame()\n",
    "\n",
    "xy['neighbourhood']=df['id_neighbourhood'].unique()\n",
    "x=list(df[(df.year==2019)&(df.variable=='Average weight of airbnb inside the neighbourhood')]['Nominal '])-(df[(df.year==2015)&(df.variable=='Average weight of airbnb inside the neighbourhood')]['Nominal '])\n",
    "y=(list(df[(df.year==2019)&(df.variable=='Average renting price/m2')]['Nominal '])-df[(df.year==2015)&(df.variable=='Average renting price/m2')]['Nominal '])/df[(df.year==2015)&(df.variable=='Average renting price/m2')]['Nominal ']\n",
    "xy['x']=x.values\n",
    "xy['y']=y.values\n",
    "xy['total_houses']=total_houses['total_houses'].values\n",
    "xy['name']=df['neighbourhood'].unique()\n",
    "x_lim= np.arange(-0.01,0.05,0.01)\n",
    "ax = sns.scatterplot(x=\"x\", y=\"y\",\n",
    "\n",
    "                     #hue=\"size\", #size=\"size\",\n",
    "\n",
    "                     data=xy)\n",
    "ax.plot(x_lim, intercept + slope * x_lim, color='r')\n"
   ]
  },
  {
   "cell_type": "markdown",
   "metadata": {},
   "source": [
    "The results show a small correlation between the increase in Airbnb share and the increase in Average rental price. But this could be also related to many other features such as the migrations of people in the city or the size of the specific neighborhood or the specific Airbn listing (if it is the full apartment or just one room). So these are inconclusive results for further analysis. "
   ]
  },
  {
   "cell_type": "markdown",
   "metadata": {},
   "source": [
    "## 4. Genre. Which genre of data story did you use?"
   ]
  },
  {
   "cell_type": "markdown",
   "metadata": {},
   "source": [
    "### Which tools did you use from each of the 3 categories of Visual Narrative (Figure 7 in Segal and Heer). Why?\n",
    "**VISUAL STRUCTURING**: We have used consistent visual platform and Timebar mainly.\n",
    "\n",
    "Because we had so many different data and we thought that the best way to show it was to allow the user play with it. And as it was data of a 5 years period, we consider it good to have a timebar to being able to filter the visualization by year.\n",
    "\n",
    "**HIGHLIGHTING**: Close-Ups, Feature Distinction, Motion, Zooming.\n",
    "\n",
    "Since our main intantion was to make the user participant of the analysis, having this tools would maximize its experience.\n",
    "\n",
    "**TRANSITION GUIDANCE**: Familiar objects (map)\n",
    "\n",
    "The master visualization is a map because only by names it is difficult to cataloge data, therefore providing a structure that everyone knows to better visualize those names was important.\n",
    "\n",
    "### Which tools did you use from each of the 3 categories of Narrative Structure (Figure 7 in Segal and Heer). Why?\n",
    "   \n",
    "**ORDERING**: User directed Path\n",
    "\n",
    "We wanted to derect the user through the article and through the visual\n",
    "\n",
    "**INTERACTIVITY**: Hover Highlighting/Details, Filtering/Selection/Search, Navigation Buttons\n",
    "\n",
    "Because the main point of the Housing section was to allow the interactivity for the user. The map and the features are related between them so allowing the user to interact with the visualization was important to better explore the data.\n",
    "\n",
    "\n",
    "**MESSAGING**: Caption/Headlines, Annotations, Acompanying Article, Introductory text, summary\n",
    "\n",
    "We used this kind of narrative strucure tools because we wanted to propose the story and the problem at the beginning, allow the user iteract and discover in the middle and propose some insights at the end of the article."
   ]
  },
  {
   "cell_type": "markdown",
   "metadata": {},
   "source": [
    "## 5. Visualizations."
   ]
  },
  {
   "cell_type": "markdown",
   "metadata": {},
   "source": [
    "\n",
    "### Explain the visualizations you've chosen.\n",
    "### Why are they right for the story you want to tell?\n",
    "    \n",
    "In this section we have chosen 4 main types of visualizations:\n",
    "**GEO VISUALIZATION**\n",
    "        We have used the geo visualization to be the master of the other plots. Here is where you can phisically see the data in a map. From this visualization all the others visualizations are modified depending on the neighborhood.\n",
    "        \n",
    "**SCATTER**\n",
    "    We have used a scatter plot to show the correlation between the main two studied variables. \n",
    "    \n",
    "**LINEPLOTS**\n",
    "    We have used a lineplot to show the evolution over time of the selected variable.\n",
    "    \n",
    "**(INDEXED LINEPLOTS)**\n",
    "   We have used a lineplot indexed to show \n",
    "   \n",
    "And the pruposed was to link all together and to make let the user iteract with the visualizations.\n",
    "\n",
    "You can access the link of the visualizations here:\n",
    "\n",
    "<a href=\"https://sodata2.herokuapp.com/\">Find the visual app here"
   ]
  },
  {
   "cell_type": "markdown",
   "metadata": {},
   "source": [
    "## 6. Discussion. Think critically about your creation"
   ]
  },
  {
   "cell_type": "markdown",
   "metadata": {},
   "source": [
    "We think that this visualization fits most of its expectations from the designing phase. Nevertheless, it would have been useful to fit it better in the webpage,because it is a bit big for a computer, and it also would have been good to eliminate non important data that could affect it (e.g. some neighborhoods showed very few data and are not important in the analysis)\n",
    "\n",
    "It would have also been useful to analyze periods in the map instead single years.\n",
    "And as a future work, in the analytical part could have been included other features such as immigration and migration inside the city, filter better the dataset of Airbnb in order to find hidden correlations."
   ]
  },
  {
   "cell_type": "markdown",
   "metadata": {},
   "source": [
    "## 7. Contributions. Who did what?\n",
    "\n",
    "All the Housing section and visualization was done by s192390"
   ]
  },
  {
   "cell_type": "markdown",
   "metadata": {},
   "source": [
    "## 8. References"
   ]
  },
  {
   "cell_type": "markdown",
   "metadata": {},
   "source": [
    "Datasets are obtained from:\n",
    "\n",
    "Data about rental prices and total houses per neighborhood:<br>\n",
    "https://opendata-ajuntament.barcelona.cat/<br>\n",
    "https://www.bcn.cat/estadistica/catala/dades/barris/index.htm<br>\n",
    "\n",
    "Data about airbnb:<br>\n",
    "http://insideairbnb.com/get-the-data.html\n",
    "\n",
    "Geodata about barcelona:<br>\n",
    "https://github.com/martgnz/bcn-geodata"
   ]
  },
  {
   "cell_type": "code",
   "execution_count": null,
   "metadata": {},
   "outputs": [],
   "source": []
  }
 ],
 "metadata": {
  "kernelspec": {
   "display_name": "Python 3",
   "language": "python",
   "name": "python3"
  },
  "language_info": {
   "codemirror_mode": {
    "name": "ipython",
    "version": 3
   },
   "file_extension": ".py",
   "mimetype": "text/x-python",
   "name": "python",
   "nbconvert_exporter": "python",
   "pygments_lexer": "ipython3",
   "version": "3.7.3"
  }
 },
 "nbformat": 4,
 "nbformat_minor": 2
}
